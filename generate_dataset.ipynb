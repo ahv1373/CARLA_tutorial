{
 "cells": [
  {
   "cell_type": "code",
   "execution_count": 2,
   "id": "d4d8ab14",
   "metadata": {},
   "outputs": [
    {
     "name": "stdout",
     "output_type": "stream",
     "text": [
      "Dataset generation completed!\n"
     ]
    }
   ],
   "source": [
    "import carla\n",
    "import random\n",
    "import time\n",
    "import os\n",
    "import cv2\n",
    "import numpy as np\n",
    "from queue import Queue\n",
    "\n",
    "# Connect to the CARLA server\n",
    "def connect_to_carla():\n",
    "    client = carla.Client('localhost', 2000)\n",
    "    client.set_timeout(10.0)\n",
    "    world = client.get_world()\n",
    "    return client, world\n",
    "\n",
    "# Generate dataset with different weather conditions\n",
    "def generate_dataset(world, output_dir='dataset', num_samples=100):\n",
    "    if not os.path.exists(output_dir):\n",
    "        os.makedirs(output_dir)\n",
    "    \n",
    "    # Define weather conditions\n",
    "    weather_conditions = {\n",
    "        'day': carla.WeatherParameters.ClearNoon,\n",
    "        'night': carla.WeatherParameters.ClearNight,\n",
    "        'rain': carla.WeatherParameters.HardRainNoon,\n",
    "        'fog': carla.WeatherParameters(fog_density=80.0)  \n",
    "    }\n",
    "    \n",
    "    blueprint_library = world.get_blueprint_library()\n",
    "    vehicle_bp = blueprint_library.filter('model3')[0]\n",
    "    camera_bp = blueprint_library.find('sensor.camera.rgb')\n",
    "    camera_bp.set_attribute('image_size_x', '224')\n",
    "    camera_bp.set_attribute('image_size_y', '224')\n",
    "    \n",
    "    spawn_points = world.get_map().get_spawn_points()\n",
    "    \n",
    "    for condition_name, weather in weather_conditions.items():\n",
    "        world.set_weather(weather)\n",
    "        condition_dir = os.path.join(output_dir, condition_name)\n",
    "        os.makedirs(condition_dir, exist_ok=True)\n",
    "        \n",
    "        for i in range(num_samples):\n",
    "            # Select a random spawn point\n",
    "            spawn_point = random.choice(spawn_points)\n",
    "            # Spawning the vehicle\n",
    "            vehicle = world.spawn_actor(vehicle_bp, spawn_point)\n",
    "            # Attaching the camera to the vehicle\n",
    "            camera = world.spawn_actor(camera_bp, carla.Transform(carla.Location(x=2.5, z=0.7)), \n",
    "                                       attach_to=vehicle)\n",
    "            \n",
    "            image_queue = Queue()\n",
    "            camera.listen(lambda image: image_queue.put(image))\n",
    "            \n",
    "            # Take a step in the simulation\n",
    "            world.tick()\n",
    "            # Capturing the image\n",
    "            image = image_queue.get()\n",
    "            image.save_to_disk(os.path.join(condition_dir, f'{i}.png'))\n",
    "            \n",
    "            # Cleanup\n",
    "            camera.stop()\n",
    "            vehicle.destroy()\n",
    "            time.sleep(0.1)  # A small delay for stability\n",
    "        \n",
    "    print(\"Dataset generation completed!\")\n",
    "\n",
    "def main():\n",
    "    client, world = connect_to_carla()\n",
    "    generate_dataset(world)\n",
    "\n",
    "if __name__ == '__main__':\n",
    "    main()"
   ]
  },
  {
   "cell_type": "code",
   "execution_count": null,
   "id": "057972e2",
   "metadata": {},
   "outputs": [],
   "source": []
  }
 ],
 "metadata": {
  "kernelspec": {
   "display_name": "CARLA",
   "language": "python",
   "name": "python3"
  },
  "language_info": {
   "codemirror_mode": {
    "name": "ipython",
    "version": 3
   },
   "file_extension": ".py",
   "mimetype": "text/x-python",
   "name": "python",
   "nbconvert_exporter": "python",
   "pygments_lexer": "ipython3",
   "version": "3.8.20"
  }
 },
 "nbformat": 4,
 "nbformat_minor": 5
}
